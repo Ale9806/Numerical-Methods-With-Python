{
 "cells": [
  {
   "cell_type": "code",
   "execution_count": 2,
   "metadata": {},
   "outputs": [
    {
     "data": {
      "text/html": [
       "\n",
       "<style>\n",
       ".output_png {\n",
       "    display: table-cell;\n",
       "    text-align: center;\n",
       "    vertical-align: middle;\n",
       "}\n",
       "</style>\n"
      ],
      "text/plain": [
       "<IPython.core.display.HTML object>"
      ]
     },
     "execution_count": 2,
     "metadata": {},
     "output_type": "execute_result"
    }
   ],
   "source": [
    "### Import libraries ###\n",
    "import numpy as np\n",
    "import matplotlib.pyplot as plt\n",
    "from IPython.core.display import HTML\n",
    "HTML(\"\"\"\n",
    "<style>\n",
    ".output_png {\n",
    "    display: table-cell;\n",
    "    text-align: center;\n",
    "    vertical-align: middle;\n",
    "}\n",
    "</style>\n",
    "\"\"\")"
   ]
  },
  {
   "cell_type": "markdown",
   "metadata": {},
   "source": [
    "# Interpolation: \n",
    "\n",
    "You will often find that you have to estimate intermediate values between data\n",
    "defined by points. The most common method used for this purpose is polynomial interpolation. Remember that the general formula for a polynomial of $n_{Th}$ degree is:\n",
    "\n",
    "$$ f(x) = a_0 + a_1x + a_2x^2 + · · · + a_mx^m$$\n",
    "  \n",
    "Given $n + 1$ points, there is one and only one polynomial of degree $n$  that passes through all points. For example:<br>\n",
    "<ul>\n",
    "<li>There is only one straight line (that is, a polynomial of the $1st$ degree) connecting $2$ points.</li>\n",
    "<li>Similarly, there is only a parabola (that is, a polynomial of the $2nd$ degree)  that unites a set of $3$ points. </li>\n",
    "</ul>\n",
    "Polynomial interpolation consists of determining the unique polynomial of $n_{Th}$ degree that fits to n + 1 points. This polynomial, then, provides a formula to calculate intermediate values. Although there is one and only one polynomial of $n_{Th}$ degree that fits to n + 1 points,\n",
    "There is a great variety of mathematical ways in which this can be expressed.\n",
    "polynomial.\n",
    "\n",
    "##  1 NEWTON'S POLYNOMIAL INTERPOLATION IN DIVIDED DIFFERENCES\n",
    "\n",
    "### 1.a Linear interpolation (2 point  Interpolation):\n",
    "The simplest form of interpolation is to join two points with a straight line.\n",
    "This technique, called linear interpolation:\n",
    "\n",
    "$$ \\frac{f_1(x) -f(x_0)}{x-x_0} = \\frac{f(x_1) -f(x_0)}{x_1-x_0}$$\n",
    "\n",
    "We can rearrange this as: \n",
    "$$f_1(x)  = f(x_0) + \\frac{f(x_1)-f(x_0)}{x_1-x_0}(x-x_0)$$"
   ]
  },
  {
   "cell_type": "code",
   "execution_count": 43,
   "metadata": {},
   "outputs": [
    {
     "name": "stdout",
     "output_type": "stream",
     "text": [
      "Value: 0.358351893845611, Error: 48.30074998557687 %\n"
     ]
    },
    {
     "data": {
      "image/png": "[encoded data removed]",
      "text/plain": [
       "<Figure size 720x432 with 1 Axes>"
      ]
     },
     "metadata": {
      "needs_background": "light"
     },
     "output_type": "display_data"
    }
   ],
   "source": [
    "def lineal_interpolation(a,c,b,f_a,f_c):\n",
    "    f_b = f_a + ((f_c-f_a)/(c-a))*(b-a)\n",
    "    return f_b\n",
    "### example ###\n",
    "a=1 # first point\n",
    "b=2 # Point in the middle We want to interpolate this point\n",
    "c=6 # Second point \n",
    "\n",
    "f_a = np.log(a) # Firs point evaluation in function\n",
    "f_c = np.log(c) # Second  point evaluation in function\n",
    "f_b = lineal_interpolation(a,c,b,f_a,f_c) # Point in the middle  evaluation in function\n",
    "\n",
    "x = np.linspace(1,6,10)\n",
    "f = np.log(x)\n",
    "error = (np.log(b) - f_b)/(np.log(b))*100\n",
    "print(f\"Value: {f_b}, Error: {error} %\")\n",
    "### Plot ###\n",
    "plt.figure(figsize=(10,6))\n",
    "plt.plot(x,f,\"b-\",label=\"f(x)\")\n",
    "plt.plot(a,f_a,\"b*\")\n",
    "plt.plot(c,f_c,\"b*\")\n",
    "plt.plot(b,f_b,\"go\",label=\"f(2) approx\")\n",
    "plt.plot(b,np.log(b),\"r*\",label=\"f(2) real\")\n",
    "plt.axvline(x=2,ymin=0.23,ymax=0.4,linestyle='--',color=\"black\", label=\"error\")\n",
    "\n",
    "### Make Plot Pretty ###\n",
    "plt.title(\"Linear Interpolation\")\n",
    "plt.legend()\n",
    "plt.show()"
   ]
  },
  {
   "cell_type": "markdown",
   "metadata": {},
   "source": [
    "### 1.b Quadratic interpolation (3 point Interpolation):\n",
    "\n",
    "A strategy to improve the estimation consists of introducing some curvature to the line that joins the points. If you have three points as data,\n",
    "These can be fitted into a second degree polynomial (also known as a quadratic polynomial or parabola). A particularly convenient way for this is:\n",
    "\n",
    "$$ f_2(x) = b_0 + b_1(x – x_0) + b_2(x – x_0)(x – x_1)  $$\n",
    "\n",
    "Open multiplications: \n",
    "\n",
    "$$ f_2(x) = b_0 + b_1x – b_1x_0 + b_2x_2 + b_2x_0x_1 – b_2xx_0 – b_2xx_1 $$\n",
    "\n",
    "We can grup terms:\n",
    " $$ f_2(x) = a_0 + a_1x + a_2x_2 $$\n",
    "\n",
    "Where:\n",
    "\n",
    "$a_0 = b_0 – b_lx_0 + b_2x_0x_1$\n",
    "\n",
    "$a_1 = b_1 – b_2x_0 – b_2x_1 $ \n",
    "\n",
    "$a_2 = b_2$\n",
    "\n",
    "We can define:\n",
    "\n",
    "$$ b_0 = f(x_0) $$\n",
    "\n",
    "$$ b_1 =\\frac{f(x_1)– f(x_0)}{x_1 - x_0}  =  \\frac{f(x_1) – b_0}{x_1 - x_0}$$\n",
    "\n",
    "$$ b_2 =\\frac{\\frac{f(x_2)– f(x_1)}{x_2 - x_1} - \\frac{f(x_1)– f(x_0)}{x_1 - x_0}}{x_2-x_0} =  \\frac{\\frac{f(x_2)– f(x_1)}{x_2 - x_1} - b1}{x_2-x_0} $$"
   ]
  },
  {
   "cell_type": "code",
   "execution_count": 115,
   "metadata": {},
   "outputs": [
    {
     "name": "stdout",
     "output_type": "stream",
     "text": [
      "Value: 0.5658443469009827, Error: 18.36591668108979 %\n"
     ]
    }
   ],
   "source": [
    "def quadratic_interpolation(x0,x1,x2,x,f_x0,f_x1,f_x2):\n",
    "    ### Calcualte coefficents ###\n",
    "    b0 = f_x0\n",
    "    b1 = (f_x1 - f_x0)/(x1- x0)\n",
    "    b2 = ((f_x2 - f_x1)/(x2 - x1)  - (f_x1 - f_x0)/(x1 - x0))/(x2 - x0)\n",
    "    \n",
    "    ### Formula ###\n",
    "    f_x = b0 + b1*(x-x0) + b2*(x-x0)*(x-x1)\n",
    "\n",
    "    return f_x\n",
    "\n",
    "x0=1 # First point\n",
    "x=2 # Point in the middle We want to interpolate this point\n",
    "x1=4 # Second point\n",
    "x2=6 # Third point\n",
    "\n",
    "f_x0 = np.log(x0) # Firs    point evaluation in function\n",
    "f_x1 = np.log(x1) # Second  point evaluation in function\n",
    "f_x2 = np.log(x2) # Third   point evaluation in function\n",
    "f_x = quadratic_interpolation(x0,x1,x2,x,f_x0,f_x1,f_x2) # Point in the middle  evaluation in function\n",
    "\n",
    "### GET Error ###\n",
    "error = (np.log(b) - f_x)/(np.log(b))*100\n",
    "print(f\"Value: {f_x}, Error: {error} %\")"
   ]
  },
  {
   "cell_type": "markdown",
   "metadata": {},
   "source": [
    "### 1.c Cubic  interpolation (4 point Interpolation):\n",
    "In other to see the pattern of Newton's Polynomials lets do a 3rd order interpolation (4 point interpolation):\n",
    "\n",
    "$$ f_3(x) = b_0 + b_1(x – x_0) + b_2(x – x_0)(x – x_1)  + b_3(x – x_0)(x – x_1)(x-x_2)$$\n",
    "\n",
    "with:\n",
    "$$ b_0 = f(x_0) $$\n",
    "\n",
    "<br> \n",
    "\n",
    "$$ b_1 =\\frac{f(x_1)– f(x_0)}{x_1 - x_0}  =  \\frac{f(x_1) – b_0}{x_1 - x_0}$$\n",
    "\n",
    "<br> \n",
    "\n",
    "$$ b_2 =\\frac{\\frac{f(x_2)– f(x_1)}{x_2 - x_1} - \\frac{f(x_1)– f(x_0)}{x_1 - x_0}}{x_2-x_0}  =  \\frac{\\frac{f(x_2)– f(x_1)}{x_2 - x_1} - b1}{x_2-x_0} $$\n",
    "\n",
    "<br> \n",
    "\n",
    "$$ b3 = \\frac{\\frac{\\frac{f(x_3)– f(x_2)}{x_3 - x_2}  - \\frac{f(x_2)– f(x_1)}{x_2 - x_1}}{x_3-x_1} - \\frac{\\frac{f(x_2)– f(x_1)}{x_2 - x_1} - \\frac{f(x_1)– f(x_0)}{x_1 - x_0}}{x_2-x_0}}{x_3-x_0} =  \\frac{\\frac{\\frac{f(x_3)– f(x_2)}{x_3 - x_2}  - \\frac{f(x_2)– f(x_1)}{x_2 - x_1}}{x_3-x_1} - b2}{x_3-x_0}$$"
   ]
  },
  {
   "cell_type": "code",
   "execution_count": 6,
   "metadata": {},
   "outputs": [
    {
     "name": "stdout",
     "output_type": "stream",
     "text": [
      "Value: 0.6287685789084135, Error: 9.28786893420309 %\n"
     ]
    }
   ],
   "source": [
    "def cubic_interpolation(x0,x1,x2,x3,x,f_x0,f_x1,f_x2,f_x3):\n",
    "    \n",
    "    ### Calcualte coefficents ###\n",
    "    \n",
    "    # 0th coefficient\n",
    "    b0 =f_x0 \n",
    "    \n",
    "    # 1st coefficient\n",
    "    b1 = (f_x1 - b0)/(x1- x0)\n",
    "    \n",
    "    # 2nd coefficient\n",
    "    b2 = ((f_x2 - f_x1)/(x2 - x1) - b1)/(x2-x0)\n",
    "    \n",
    "    # 3rd coefficient\n",
    "    b3 =( ( (f_x3 - f_x2)/(x3 - x2) - (f_x2 - f_x1)/(x2 - x1) )/(x3-x1)  - b2 )/(x3-x0)\n",
    "    \n",
    "    ### Formula ###\n",
    "    f_x = b0 +  b1*(x-x0) + b2*(x-x0)*(x-x1) + b3*(x-x0)*(x-x1)*(x-x2)\n",
    "\n",
    "    return f_x\n",
    "\n",
    "x0 =1 # First point\n",
    "x  =2 # Point in the middle We want to interpolate this point\n",
    "x1 =4 # Second point\n",
    "x2 =6 # Third point\n",
    "x3 =5 # Forth point\n",
    "\n",
    "f_x0 = np.log(x0) # First    point evaluation in function\n",
    "f_x1 = np.log(x1) # Second  point evaluation in function\n",
    "f_x2 = np.log(x2) # Third   point evaluation in function\n",
    "f_x3 = np.log(x3) # Forth  point evaluation in function\n",
    "f_x = cubic_interpolation(x0,x1,x2,x3,x,f_x0,f_x1,f_x2,f_x3) # Point in the middle  evaluation in function\n",
    "\n",
    "### GET Error ###\n",
    "error = (np.log(x) - f_x)/(np.log(x))*100\n",
    "print(f\"Value: {f_x}, Error: {error} %\")"
   ]
  },
  {
   "cell_type": "markdown",
   "metadata": {},
   "source": [
    "### 1.c Lagrange Interpolation:\n",
    "The Lagrange interpolation polynomial is simply a reformulation of Newton's polynomial that avoids the computation of divided differences, and is represented by:\n",
    "\n",
    "$$ f_n(x) = \\sum_{i=0}^{n} L_i(x)f(x_i) $$\n",
    "\n",
    "where:\n",
    "\n",
    "\n",
    "$$ L_i(x) = \\prod_{j=0,j \\neq i}^{n} \\frac{x-x_j}{x_i-x_j} $$\n",
    "\n",
    "**Example:**\n",
    "\n",
    "n=1 (2 point interpolation):\n",
    "\n",
    "$$ f_1(x) = \\frac{x-x_1}{x_0-x_1}f(x_0) +\\frac{x-x_0}{x_1-x_0}f(x_1) $$\n",
    "\n",
    "n=2 (3point interpolation):\n",
    "\n",
    "$$ f_2(x) = \\frac{(x-x_1)(x-x_2)}{(x_0-x_1)(x_0-x_2)}f(x_0) + \\frac{(x-x_0)(x-x_2)}{(x_1-x_0)(x_1-x_2)}f(x_1)  + \\frac{(x-x_0)(x-x_1)}{(x_2-x_0)(x_2-x_1)}f(x_2)$$"
   ]
  },
  {
   "cell_type": "code",
   "execution_count": 51,
   "metadata": {},
   "outputs": [
    {
     "name": "stdout",
     "output_type": "stream",
     "text": [
      "Number of points: 2, Degree of polynomial: 1, Value: 0.46209812037329684, Error: 33.333333333333336 %\n",
      "\n",
      "Number of points: 3, Degree of polynomial: 2, Value: 0.5658443469009826, Error: 18.365916681089807 %\n",
      "\n",
      "Number of points: 4, Degree of polynomial: 3, Value: 0.6134165538186294, Error: 11.502697980666547 %\n",
      "\n"
     ]
    }
   ],
   "source": [
    "def lagrannge_interpolation(xp,fp,n,x):\n",
    "    \"\"\" Lagrange interpolation, input:\n",
    "        xp = a vector of points\n",
    "        fp = a vector of points \n",
    "        n  = Degree of interpolation\n",
    "        x  = point to evaluate\"\"\"\n",
    "    suma = 0 # init sum\n",
    "    \n",
    "    for i in range(0,n+1): # iterate over the order +1 (to have n too)\n",
    "        producto = fp[i]   # Get the y axis value\n",
    "        for j in range(0,n+1):  # iterate over the order +1 (to have n too)\n",
    "            if i != j :\n",
    "                producto = producto*(x - xp[j])/(xp[i] - xp[j]) #yi*L\n",
    "            \n",
    "        suma = suma + producto  # add every iteration of i\n",
    "    return suma\n",
    "\n",
    "\n",
    "### Example ###\n",
    "xp = [1,4,6,7]\n",
    "x  = 2\n",
    "fp = [np.log(1),np.log(4),np.log(6),np.log(7)]\n",
    "n = 3\n",
    "### make 3 evaluations ###\n",
    "for ni in range(1,n+1):\n",
    "    f_x = lagrannge_interpolation(xp,fp,ni,x)\n",
    "\n",
    "    ### GET Error ###\n",
    "    error = (np.log(x) - f_x)/(np.log(x))*100\n",
    "    print(f\"Number of points: {ni+1}, Degree of polynomial: {ni}, Value: {f_x}, Error: {error} %\\n\")"
   ]
  },
  {
   "cell_type": "code",
   "execution_count": 42,
   "metadata": {},
   "outputs": [
    {
     "name": "stdout",
     "output_type": "stream",
     "text": [
      "y0\n",
      "x-x1/x0-x1\n",
      "x-x2/x0-x2\n",
      "y1\n",
      "x-x0/x1-x0\n",
      "x-x2/x1-x2\n",
      "y2\n",
      "x-x0/x2-x0\n",
      "x-x1/x2-x1\n"
     ]
    }
   ],
   "source": [
    "# This is just to visualize the algorithm ##\n",
    "n=2\n",
    "suma = 0\n",
    "for i in range(0,n+1):\n",
    "    print(f\"y{i}\")\n",
    "    for j in range(0,n+1):\n",
    "        if i != j :\n",
    "            print(f\"x-x{j}/x{i}-x{j}\")\n",
    "    \n",
    "    \n"
   ]
  },
  {
   "cell_type": "code",
   "execution_count": null,
   "metadata": {},
   "outputs": [],
   "source": []
  }
 ],
 "metadata": {
  "kernelspec": {
   "display_name": "Python 3",
   "language": "python",
   "name": "python3"
  },
  "language_info": {
   "codemirror_mode": {
    "name": "ipython",
    "version": 3
   },
   "file_extension": ".py",
   "mimetype": "text/x-python",
   "name": "python",
   "nbconvert_exporter": "python",
   "pygments_lexer": "ipython3",
   "version": "3.7.7"
  }
 },
 "nbformat": 4,
 "nbformat_minor": 4
}
