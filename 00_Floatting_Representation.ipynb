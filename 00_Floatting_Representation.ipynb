{
 "cells": [
  {
   "cell_type": "markdown",
   "metadata": {},
   "source": [
    "# Floating points in computers\n",
    "Floating poitns are used everywhere throughout numerical methods, but how are these numbers represented in a computer?\n",
    "In a typical 32-bit computer this numberes are represented by 3 different types of bits<br>\n",
    "<center>\n",
    "<font color='geen'> 1-bit Sign</font>$\\;\\;\\;\\;\\;\\;$\n",
    "<font color='blue'> 8-bit Exponent</font> $\\;\\;\\;\\;\\;\\;$\n",
    "<font color='red'>23-bit Mantisa</font> <br>\n",
    "<br>\n",
    "$\\;\\;\\;\\;\\;\\;\\;\\;\\;\\;\\;\\;\\;\\;\\;\\;\\;\\;$ 0 \n",
    "$\\;\\;\\;\\;\\;\\;\\;\\;\\;\\;\\;\\;\\;$ 10000011\n",
    "$\\;\\;\\;\\;\\;$ 00010010000000000000000 \n",
    "</center>\n",
    "<br>\n",
    "Inside the <font color=\"red\">23-bit Mantisa</font> there is no bit for 0, but this is takent into a count and turn on by default in the expresion to obtain the float number <br>\n",
    "<font color='geen'>Sign</font> (1+ <font color='red'> Mantisa</font>)($2^{exponent-127}$) <br> <br>\n",
    "We are now able to reperesnt decimal numbers, but we can only represente a finite set of them, since real numbers are infinite there are some numberes that we can not represent, just approximate. The difference of this approximation and the real number dependes on the system we are using to represent floats. <br>\n",
    "Machine epsilon is the minal number $e > 0 $ for which: <br>\n",
    "<center>\n",
    "$ 1 + e \\neq 1 $\n",
    "</center>\n",
    "<br>\n",
    "For double pression (32-bits) epsilon is in the order $10^{-16}$ and for single pression (16b-bits) $10^{-8}$ <br>\n",
    "<b> LETS APPROXIMATE EPSILONE IN OUR COMPUTRER:</b>"
   ]
  },
  {
   "cell_type": "code",
   "execution_count": 1,
   "metadata": {},
   "outputs": [
    {
     "name": "stdout",
     "output_type": "stream",
     "text": [
      "1e-15\n",
      "5e-16\n",
      "2.5e-16\n",
      "1.25e-16\n",
      "6.25e-17\n"
     ]
    },
    {
     "data": {
      "text/plain": [
       "1.0"
      ]
     },
     "execution_count": 1,
     "metadata": {},
     "output_type": "execute_result"
    }
   ],
   "source": [
    "epsilon = 1e-15          # First approximation of epsilon\n",
    "while 1 + epsilon  != 1: # By deffinition: run this code while 1 + e is differnet from 1 \n",
    "    print(epsilon)       # Print epsilon\n",
    "    epsilon = epsilon/2  # Make epsilon  smaller\n",
    "print(epsilon)           # last epsilon\n",
    "1 + epsilon              # proof we can  not go an"
   ]
  },
  {
   "cell_type": "code",
   "execution_count": 2,
   "metadata": {},
   "outputs": [
    {
     "data": {
      "text/plain": [
       "1.0"
      ]
     },
     "execution_count": 2,
     "metadata": {},
     "output_type": "execute_result"
    }
   ],
   "source": [
    "1 + epsilon"
   ]
  },
  {
   "cell_type": "markdown",
   "metadata": {},
   "source": [
    "Bibliography: <br>\n",
    "[What Every Computer Scientist Should Know ABout Floating-Point Arithemtic](https://docs.oracle.com/cd/E19957-01/806-3568/ncg_goldberg.html#:~:text=Almost%20every%20language%20has%20a,point%20exceptions%20such%20as%20overflow.) <br>\n",
    "[Floating Point NUmbers](https://www.youtube.com/watch?v=gc1Nl3mmCuY) <br>"
   ]
  }
 ],
 "metadata": {
  "kernelspec": {
   "display_name": "machine_learning_env",
   "language": "python",
   "name": "machine_learning_env"
  },
  "language_info": {
   "codemirror_mode": {
    "name": "ipython",
    "version": 3
   },
   "file_extension": ".py",
   "mimetype": "text/x-python",
   "name": "python",
   "nbconvert_exporter": "python",
   "pygments_lexer": "ipython3",
   "version": "3.7.7"
  }
 },
 "nbformat": 4,
 "nbformat_minor": 4
}
