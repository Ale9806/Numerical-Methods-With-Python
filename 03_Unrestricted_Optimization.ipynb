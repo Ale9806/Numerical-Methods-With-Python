{
 "cells": [
  {
   "cell_type": "code",
   "execution_count": 1,
   "metadata": {},
   "outputs": [
    {
     "data": {
      "text/html": [
       "\n",
       "<style>\n",
       ".output_png {\n",
       "    display: table-cell;\n",
       "    text-align: center;\n",
       "    vertical-align: middle;\n",
       "}\n",
       "</style>\n"
      ],
      "text/plain": [
       "<IPython.core.display.HTML object>"
      ]
     },
     "execution_count": 1,
     "metadata": {},
     "output_type": "execute_result"
    }
   ],
   "source": [
    "### Import libraries ###\n",
    "import numpy as np\n",
    "import matplotlib.pyplot as plt\n",
    "from IPython.core.display import HTML\n",
    "HTML(\"\"\"\n",
    "<style>\n",
    ".output_png {\n",
    "    display: table-cell;\n",
    "    text-align: center;\n",
    "    vertical-align: middle;\n",
    "}\n",
    "</style>\n",
    "\"\"\")"
   ]
  },
  {
   "cell_type": "markdown",
   "metadata": {},
   "source": [
    "### 2 Newton Method\n",
    "For this it is importatn to remember Newton's Theorem,  we used this theorem previously in order to find the roots of a function using Newton Rapson.\n",
    "\n",
    "If $f:[l,u] \\in R \\to R $ is continous and differentaible in $[l,u]$ with $f(l)f(u) < 0$ and $ f^{'} \\neq 0 $ in $[l,u]$ There exsists a $x_0 \\in [l,u] $ such that:\n",
    "$$ x_{n+1} = x_{n} - \\frac{f(x_n)}{f^{'}(x_n)},n > 0 $$\n",
    "\n",
    "for which:\n",
    "\n",
    "$$ \\lim{n \\to \\infty} f(x_n) =0 $$\n",
    "\n",
    "**Proof:**\n",
    "\n",
    "$$ f(x) |_c= \\sum_{n=0}^{\\infty}\\frac{f^{n}(c)(x-c)^{n}}{n!} $$\n",
    "\n",
    "Given the definition of Taylor Series, evaluate a function $f(x_i)$ in the point $x_{i+1} $ with a 1st Order Taylor Series.\n",
    "\n",
    "\n",
    "$$ f(x_{i+1})|_{x_{i}} =  f(x_i) + f^{'}(x_i)(x_{i+1}-x_i) $$\n",
    "\n",
    "We know that if  $ f(x_{i+1}) $ is a root, then $ f(r) = 0 $, Therefore:\n",
    "\n",
    "$$f(x_i) + f^{'}(x_i)(x_{i+1}-x_i) =0$$\n",
    "\n",
    "<br>\n",
    "\n",
    "$$ (x_{i+1}-x_i) =-\\frac{f(x_i)}{f^{'}(x_i)}$$\n",
    "\n",
    "<br>\n",
    "\n",
    "$$ x_{i+1} =x_i-\\frac{f(x_i)}{f^{'}(x_i)}$$\n",
    "\n",
    "\n",
    "\n",
    "\n",
    "We can apply the same ide for Optimization since we now that  Local Minima, Maximum and Absolute Minimia,Maximum  have the same property:\n",
    "\n",
    "$$ f^{'}(x) =0 $$\n",
    "\n",
    "Therefore we can use a similar method:\n",
    "\n",
    "$$ x_{n+1} = x_{n} - \\frac{f^{'}(x_n)}{f^{''}(x_n)},n > 0 $$\n",
    "**EXAMPLE:** <br>\n",
    "Find one root for $x^6 -x -1 $"
   ]
  },
  {
   "cell_type": "code",
   "execution_count": 51,
   "metadata": {},
   "outputs": [
    {
     "name": "stdout",
     "output_type": "stream",
     "text": [
      "point found at x =1.4275517787645942 , y=1.7757256531474153\n"
     ]
    }
   ],
   "source": [
    "def Newton(x_o,f_x,f1_x,f2_x,n):\n",
    "    xi = x_o \n",
    "    for _ in range(0,n):\n",
    "        xi_1 = xi - f1_x(xi)/f2_x(xi)\n",
    "        xi=xi_1\n",
    "    return xi\n",
    "\n",
    "\n",
    "f_x  = lambda x: 2*np.sin(x) - (x**2)/10\n",
    "f1_x = lambda x: 2*np.cos(x) -  x/5\n",
    "f2_x = lambda x: -2*np.sin(x) - 1/5\n",
    "x_o=1\n",
    "n=10\n",
    "max_or_min = Newton(x_o,f_x,f1_x,f2_x,n)\n",
    "print(f\"point found at x ={max_or_min} , y={f_x(max_or_min)}\")"
   ]
  },
  {
   "cell_type": "code",
   "execution_count": 52,
   "metadata": {},
   "outputs": [
    {
     "data": {
      "image/png": "[encoded data removed]",
      "text/plain": [
       "<Figure size 720x360 with 1 Axes>"
      ]
     },
     "metadata": {
      "needs_background": "light"
     },
     "output_type": "display_data"
    }
   ],
   "source": [
    "### Plot ###\n",
    "x = np.linspace(-7.5,7.5,100)    # Create a vector\n",
    "f_xv = 2*np.sin(x) - (x**2)/10    # Evaluate it in fucntion\n",
    "plt.figure(figsize=(10,5))       # Set size of plot\n",
    "plt.plot(x,f_xv,\"-\",label=\"f(x)\") # Plot function\n",
    "plt.plot(max_or_min,f_x(max_or_min),\"ro\",label=\"maximum\")\n",
    "\n",
    "### Make plot pretty ###\n",
    "plt.legend()\n",
    "plt.xlim((-7.5,7.5))\n",
    "plt.show()\n"
   ]
  },
  {
   "cell_type": "markdown",
   "metadata": {},
   "source": [
    "**Note:**\n",
    "<br>\n",
    "Although Newton's method works well in some cases, it is not practical in others where the derivatives cannot be easily calculated. In such cases, there are other procedures that do not involve the evaluation of the derivative. For example, using a version similar to the secant method, approximations can be developed in finite differences for the derivative evaluations."
   ]
  },
  {
   "cell_type": "markdown",
   "metadata": {},
   "source": [
    "Add:\n",
    "    Gradient descent"
   ]
  },
  {
   "cell_type": "code",
   "execution_count": null,
   "metadata": {},
   "outputs": [],
   "source": []
  }
 ],
 "metadata": {
  "kernelspec": {
   "display_name": "Python 3",
   "language": "python",
   "name": "python3"
  },
  "language_info": {
   "codemirror_mode": {
    "name": "ipython",
    "version": 3
   },
   "file_extension": ".py",
   "mimetype": "text/x-python",
   "name": "python",
   "nbconvert_exporter": "python",
   "pygments_lexer": "ipython3",
   "version": "3.7.7"
  }
 },
 "nbformat": 4,
 "nbformat_minor": 4
}
