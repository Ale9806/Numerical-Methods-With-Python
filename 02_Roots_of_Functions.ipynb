{
 "cells": [
  {
   "cell_type": "code",
   "execution_count": 54,
   "metadata": {},
   "outputs": [
    {
     "data": {
      "text/html": [
       "\n",
       "<style>\n",
       ".output_png {\n",
       "    display: table-cell;\n",
       "    text-align: center;\n",
       "    vertical-align: middle;\n",
       "}\n",
       "</style>\n"
      ],
      "text/plain": [
       "<IPython.core.display.HTML object>"
      ]
     },
     "execution_count": 54,
     "metadata": {},
     "output_type": "execute_result"
    }
   ],
   "source": [
    "### Import libraries ###\n",
    "import numpy as np\n",
    "import matplotlib.pyplot as plt\n",
    "from IPython.core.display import HTML\n",
    "HTML(\"\"\"\n",
    "<style>\n",
    ".output_png {\n",
    "    display: table-cell;\n",
    "    text-align: center;\n",
    "    vertical-align: middle;\n",
    "}\n",
    "</style>\n",
    "\"\"\")"
   ]
  },
  {
   "cell_type": "markdown",
   "metadata": {},
   "source": [
    "# Motivation\n",
    "It is well known that in order to obtain the roots of a polynomial of 2nd degree we can use the cudaratic formula:\n",
    "$$ x{1,2} = \\frac{-b+-\\sqrt{b^2-4ac}}{2a} $$\n",
    "\n",
    "However, there are equations like $ f (x) = e^{– x} - x $  for which it is not possible to find its  analyticalsolution. In such cases, the only alternative is a to use a technic in order to find an aproximate solution"
   ]
  },
  {
   "cell_type": "markdown",
   "metadata": {},
   "source": [
    "## Closed Methods\n",
    "This methods  take advantage of the fact that a function changes sign in the vicinity of a root. These techniques are\n",
    "called closed, or interval methods, because it takes two initial values to\n",
    "the root. As the name implies, these initial values must \"enclose\" both sides of the root. The particular methods described here employ different strategies to systematically reduce the size of the interval and thus converge to the\n",
    "correct answer. \n",
    "\n",
    "**Note:** In order to find the interval a graphical tool is needed, though you could guess the correct interval.\n",
    "\n",
    "\n",
    "### 1 Bisection Method:\n",
    "When a function  $f(x)$ passes throguh its roots, it changes signs. In general, if $f(x)$ is real and continues in theinterval $[l,u]$ and $f(l)$ and $f(u)$ have opposite signs, that is:\n",
    "\n",
    "$$ f(l)f(u) < 0 $$\n",
    "Then $ f(x) $ has at least 1 root\n",
    "\n",
    "**STEPS:**\n",
    "\n",
    "<ol>\n",
    "    <li>Select $l$ and $u$ such that  the root $r \\in [l,u]$ This can be verified with $ f(l)f(u) < 0 $ </li>  \n",
    "    <li>Generate an approximation of the root $r$  with the following expression: $r= \\frac{l+u}{2}$</li>   \n",
    "    <li>Perform the following assessments to determine which subinterval the root belongs</li>   \n",
    "    <ol>\n",
    "        <li>If $ f(l)f(r) < 0 $ than the root is in the left interval, therefore u=r, go back to step 2. </li>\n",
    "        <li>If $ f(l)f(r) > 0 $ than the root is in the right interval, therefore l=r, go back to step 2.</li>\n",
    "        <li>If $ f(l)f(r) = 0 $ we have found the root r=r, finish the iteration.</li>\n",
    "    </ol>\n",
    "</ol>\n",
    "\n",
    "**Example:** \n",
    "Find the roots for  $  f(x) = x^2 - 2x  - 10 $\n",
    "\n",
    "**Step 1: Select l and u**"
   ]
  },
  {
   "cell_type": "code",
   "execution_count": 3,
   "metadata": {},
   "outputs": [
    {
     "data": {
      "image/png": "[encoded data removed]",
      "text/plain": [
       "<Figure size 720x360 with 1 Axes>"
      ]
     },
     "metadata": {
      "needs_background": "light"
     },
     "output_type": "display_data"
    }
   ],
   "source": [
    "\n",
    "### In order to find an interval for we first need to plot the function ###\n",
    "x = np.linspace(-10,10,100)\n",
    "f_x =  x**2 - 2*x  - 10\n",
    "### Plot ###\n",
    "plt.figure(figsize=(10,5))\n",
    "plt.axhline(y=0, color='blue', linestyle='--',label=\"cross 0\") # plot zero line\n",
    "plt.axvline(x=-7.5, color='green', linestyle='--',label=\"l\") # plot zero line\n",
    "plt.axvline(x=2.5, color='red', linestyle='--',label=\"u\") # plot zero line\n",
    "plt.plot(x,f_x,\"o\",label=\"f(x)=x^2 -2x - 10\")\n",
    "plt.legend()\n",
    "plt.grid()"
   ]
  },
  {
   "cell_type": "markdown",
   "metadata": {},
   "source": [
    "With this plot we selcet $l=-7.5$ and $u=2.5$ .Since $f(u)f(l)<0$ then it is guaranteed at least one root exists\n",
    "\n",
    "**Step 2 and Step3:**"
   ]
  },
  {
   "cell_type": "code",
   "execution_count": 4,
   "metadata": {},
   "outputs": [
    {
     "name": "stdout",
     "output_type": "stream",
     "text": [
      "Root has been found\n",
      "Found root -2.3166247903554 in 53 iterations\n"
     ]
    }
   ],
   "source": [
    "def bisection(l,u,n,f):\n",
    "    \"\"\" Performs bisection method: Returns 1 root Input:\n",
    "    l: Lower bound type(int or float)\n",
    "    u: Upper bound type(int or float)\n",
    "    n: Number of iterations type(int)\n",
    "    f: Function to evalualte type(lambda funtion)\"\"\"\n",
    "    initial_test = f(l)*f(u)                 # intitial test \n",
    "    \n",
    "    if initial_test > 0:                     # Sanity check: Verify f(l)f(u)<0 if not, raise error\n",
    "         raise Exception(f\"No root in interval [{l},{u}]\")\n",
    "            \n",
    "    else:                                    # If the initial test was passed\n",
    "        for ite in range(0,n+1):             # Iterate n times\n",
    "            r = (l+u)/2                      # Compute the approximation of root \n",
    "            test=f(l)*f(r)                   # Compute test \n",
    "            if test < 0:                     # If f(l)f(r)<0 then root is in the interval  [l, r=u]\n",
    "                u=r                          # Therefor set new u to r\n",
    "            elif test > 0:                   # If f(l)f(r)>0 then the root is in the interval [r=l,u]\n",
    "                l=r                          # Therefor set new u to l\n",
    "            elif test == 0:                  # If f(l)f(r)=0 We have found the root.\n",
    "                print(\"Root has been found\") # Tell the user we have found the root \n",
    "                break                        # Break loop\n",
    "    return r,ite\n",
    "\n",
    "## try function ##\n",
    "l=-7.5\n",
    "u=2.5\n",
    "n=100\n",
    "f = lambda x:  x**2 - 2*x - 10\n",
    "r,iterations = bisection(l,u,n,f)\n",
    "print(f\"Found root {r} in {iterations} iterations\")"
   ]
  },
  {
   "cell_type": "markdown",
   "metadata": {},
   "source": [
    "<br>\n",
    "<br>\n",
    "\n",
    "\n",
    "## Open Methods\n",
    "In the closed methods,the root is within a predetermined range by a lower limit and an upper limit. Repeated iteration of these methods always produce approximations closer to the root. Such methods are convergent because they progressively approach the root as that progresses in the calculation.\n",
    "\n",
    "In contrast, open methods are based on formulas requiring only a single starting value x or starting with a pair of\n",
    "them, but they do not necessarily contain the root. These sometimes diverge as the calculation procees, however, when open methods converge, they generally do so much faster than closed methods.\n",
    "\n",
    "### 1 Simple Iteration of  Fixed Point\n",
    "**Fixed point Theroem**\n",
    "\n",
    "If $g:[l,u] \\to [l,u] $ is continous and differentiable in $[l,u]$ with $| g^{'}(x)|\t\\leq k \\leq 1 \\forall x \\in [l,u], $ and $ x_0 \\in [l,u] $, then the iteration is expressed as:\n",
    "$$ x_n = g(x_{n-1})$$\n",
    "Therefore  this iterations is convergent:\n",
    "$$ \\lim _{n \\to \\infty} x_n = r $$\n",
    "Where $r$ is the root of the equation  $ x= g(x) $\n",
    "\n",
    "**Steps:**\n",
    "<ol>\n",
    "    <li>Transform $f(x)=0$ to  $x=g(x)$ such that $ g(x)$ satisfies the Fixed point theorem</li>\n",
    "    <li> Iterate over step 1 </li>\n",
    "</ol>\n",
    "\n",
    "**Example:**\n",
    "Find the roots for $f(x)=x-e^{-x}$\n",
    "\n",
    "By definition the root of the function satisfies the following propertie:  $x-e^{-x}=0$\n",
    "\n",
    "Convert $x-e^{-x}=0$  to  $x=g(x)$ adding x by both sides: $x=e^{-x}$ "
   ]
  },
  {
   "cell_type": "code",
   "execution_count": 57,
   "metadata": {},
   "outputs": [
    {
     "name": "stdout",
     "output_type": "stream",
     "text": [
      "0.6062435350855974\n"
     ]
    }
   ],
   "source": [
    "def fixed_point(x_o,g_x,n):\n",
    "    r = x_o              # change the intial guess to potential root\n",
    "    r_vec =[]            # root vector for ploting purposes\n",
    "    for _ in range(0,n): # Iterate n times\n",
    "        r = g_x(r)       # New root comes from g_x\n",
    "        r_vec.append(r)  # append to see evolution of roots\n",
    "    return r,r_vec\n",
    "\n",
    "x_o  = 0                   # Intial guess\n",
    "f_x=lambda x: x-np.exp(-x) # Function (we will not use this but lets put it in order to see it)\n",
    "g_x=lambda x: np.exp(-x)   # g(x) function\n",
    "n= 5                       # Number of iterations\n",
    "r,r_vec=fixed_point(xi,g_x,n) # Call fucntion\n",
    "print(r)                   # Print root approximation"
   ]
  },
  {
   "cell_type": "code",
   "execution_count": 58,
   "metadata": {},
   "outputs": [
    {
     "data": {
      "image/png": "[encoded data removed]",
      "text/plain": [
       "<Figure size 720x360 with 1 Axes>"
      ]
     },
     "metadata": {
      "needs_background": "light"
     },
     "output_type": "display_data"
    }
   ],
   "source": [
    "### lets  plot the function to see how the algorithm works  ###\n",
    "x = np.linspace(0,1.25,50) # define a small vector\n",
    "f_x = x-np.exp(-x)         # Get f_x\n",
    "### Plot ###\n",
    "plt.figure(figsize=(10,5))                                     # Set size of plot\n",
    "plt.axhline(y=0, color='blue', linestyle='--',label=\"cross 0\") # plot zero line\n",
    "plt.plot(x,f_x,\"-\",label=\"f(x)=x-e^(-x)\")                      # Plot function\n",
    "\n",
    "### ploot history of roots ###\n",
    "for i,r in enumerate(r_vec):                                 \n",
    "    plt.plot(r,r-np.exp(-r),\"*\",label=f\"fixed poiint {i+1}\")\n",
    "\n",
    "## Make plot Pretty ###\n",
    "plt.legend()\n",
    "plt.grid()"
   ]
  },
  {
   "cell_type": "markdown",
   "metadata": {},
   "source": [
    "### 2 Newton Rapson\n",
    "If $f:[l,u] \\in R \\to R $ is continous and differentaible in $[l,u]$ with $f(l)f(u) < 0$ and $ f^{'} \\neq 0 $ in $[l,u]$ There exsists a $x_0 \\in [l,u] $ such that:\n",
    "$$ x_{n+1} = x_{n} - \\frac{f(x_n)}{f^{'}(x_n)},n > 0 $$\n",
    "\n",
    "for which:\n",
    "\n",
    "$$ \\lim{n \\to \\infty} f(x_n) =0 $$\n",
    "\n",
    "Therefore $x_n$ is a root \n",
    "\n",
    "**EXAMPLE:** <br>\n",
    "Find one root for $x^6 -x -1 $"
   ]
  },
  {
   "cell_type": "code",
   "execution_count": 59,
   "metadata": {},
   "outputs": [
    {
     "data": {
      "image/png": "[encoded data removed]",
      "text/plain": [
       "<Figure size 720x360 with 1 Axes>"
      ]
     },
     "metadata": {
      "needs_background": "light"
     },
     "output_type": "display_data"
    }
   ],
   "source": [
    "x = np.linspace(-2,2,200)\n",
    "f_x = x**6 -x -1\n",
    "f1_x = 6*x*5 -1\n",
    "\n",
    "### Plot ###\n",
    "plt.figure(figsize=(10,5))                                     # Set size of plot\n",
    "plt.axhline(y=0, color='blue', linestyle='--',label=\"x cross 0\") # plot zero  horizontal line\n",
    "plt.axvline(x=0, color='red', linestyle='--',label=\"y cross 0\") # plot zero line\n",
    "plt.axvline(x=0.5, color='green', linestyle='-',label=\"l= 0.5\") # plot zero line\n",
    "plt.axvline(x=1.4, color='orange', linestyle='-',label=\"u= 1.4\") # plot zero line\n",
    "\n",
    "plt.plot(x,f_x,\"-\",label=\"f (x)\")                               # Plot function\n",
    "plt.plot(x,f1_x,\"-\",label=\"f '(x)\")                             # Plot function\n",
    "\n",
    "### Make plot pretty ###\n",
    "plt.ylim((-4,42))\n",
    "plt.xlim((-2.5,2.5))\n",
    "plt.legend(loc=\"best\")\n",
    "plt.show()"
   ]
  },
  {
   "cell_type": "markdown",
   "metadata": {},
   "source": [
    "With this graphical example we can appreciate that near $0$,  $f^{'}(x)$  is equal to $0$ so if an interval passes throught this point we can not apply Newtons Method. To apply this method  we select the interval  $[l=0.5,u=1.4]$"
   ]
  },
  {
   "cell_type": "code",
   "execution_count": 75,
   "metadata": {},
   "outputs": [
    {
     "name": "stdout",
     "output_type": "stream",
     "text": [
      "Rood found at 1.1347241936133872\n"
     ]
    }
   ],
   "source": [
    "\n",
    "def Newton_Rapson(x_o,l,u,f_x,f1_x,n):\n",
    "    \"\"\" Newton Rapson Method:\n",
    "    x_o:  Intial guess of root    type(float)\n",
    "    l:    Lower bound of interval type(float)\n",
    "    u:    Upper bound of interval type(float)\n",
    "    f_x:  Function to evaluate    type(lambda)\n",
    "    f1_x: First derivative of f_x type(lambda)\n",
    "    n:    Number of Iterations    type(int)\n",
    "    \"\"\"\n",
    "    r = x_o              # change the intial guess to potential root\n",
    "    r_vec =[]            # root vector for ploting purposes\n",
    "    \n",
    "    if f_x(l)*f_x(u) < 0:          # Check if there is a root in interval \n",
    "        for _ in range(0,n):       # Iterate n times\n",
    "            r = r - f_x(r)/f1_x(r) # Newton Rapson Method\n",
    "            r_vec.append(r)        # append to see evolution of roots\n",
    "            \n",
    "    else:\n",
    "        raise Exception(f\"No root in interval [{l},{u}]\") # Raise error if no root in interval\n",
    "        \n",
    "    return r,r_vec\n",
    "\n",
    "### Lets apply the function ###\n",
    "l = 1                       # Lower bound\n",
    "x_o = 1.5                   # Intial guess for root l < x_o < u\n",
    "u = 2                       # Upper bound    \n",
    "f_x  = lambda x: x**6 -x -1 # Function\n",
    "f1_x = lambda x: 6*x*5 -1   # Derivative of Function\n",
    "n=40                        # Number of iterations\n",
    "r,r_vec = Newton_Rapson(x_o,l,u,f_x,f1_x,n) # Apply Function\n",
    "print(f\"Rood found at {r}\") # Print Root"
   ]
  },
  {
   "cell_type": "markdown",
   "metadata": {},
   "source": [
    "## 3 Secant Method (do not use this method, use Secant Modifie instead) \n",
    "A potential issue when implementing Newton-Raphson is the derivative evaluation. Although this is not a disadvantage for polynomials nor for many other functions, there are some functions whose derivatives sometimes very difficult to calculate. In such cases, the derivative can be approximated by a backwards finite difference:\n",
    "\n",
    "$$ f^{'}(x_i) = \\frac{f(x_{i-1})- f(x_i)}{x_{i-1} - x_i} $$\n",
    "\n",
    "This means that the secant method needs 2 initial points $x_{i-1}$ and $x_i$:\n",
    "\n",
    "$$ x_{n+1} = x_{n} - \\frac{f(x_n) }{f^{'}(x_n)} = x_{n} - f(x_n) \\frac{x_{i-1} - x_i }{f(x_{i-1})- f(x_i)} $$\n",
    "\n",
    "This comes from Newton Rapson so in order to work it needs to pass the Newton-Rapson Theorem, explained in section 2\n"
   ]
  },
  {
   "cell_type": "code",
   "execution_count": 106,
   "metadata": {},
   "outputs": [
    {
     "name": "stdout",
     "output_type": "stream",
     "text": [
      "Can not go futrther than  itration 9 \n",
      "Rood found at 1.1347241384015194\n"
     ]
    }
   ],
   "source": [
    "def secant(x,x_1,l,u,f_x,n):\n",
    "    \"\"\" Secant Method:\n",
    "    x:    Intial guess of root             type(float)\n",
    "    x_1:  Previous point for intial guess  type(float)\n",
    "    l:    Lower bound of interval          type(float)\n",
    "    u:    Upper bound of interval          type(float)\n",
    "    f_x:  Function to evaluate             type(lambda)\n",
    "    n:    Number of Iterations             type(int)\n",
    "    \"\"\"\n",
    "    r_vec = []\n",
    "    if f_x(l)*f_x(u) < 0:           # Check if there is a root in interval\n",
    "    \n",
    "        for iteration in range(0,n):             # Iterate n times\n",
    "            try:\n",
    "                f1_x = (x_1-x)/(f_x(x_1)-f_x(x)) # Estiamte the inverse of the first derivative\n",
    "                x_1 = x                          # Save x as previous point\n",
    "                x = x - f_x(x)*f1_x              # Compute Netwon Raspon with Secant variation \n",
    "                r_vec.append(r_vec)              # Save Results\n",
    "            except:\n",
    "                # IF we get to close to the root the enxt value will not change much, this will cause a porblem\n",
    "                print(f\"Can not go futrther than  itration {iteration} \") \n",
    "                break\n",
    "    else: \n",
    "         raise Exception(f\"No root in interval [{l},{u}]\") # Raise error if no root in interval\n",
    "    return x, r_vec\n",
    "\n",
    "### Lets apply the function ###\n",
    "l = 1                       # Lower bound\n",
    "x= 1.5                      # Intial guess for root l < x_o < u\n",
    "x_1= 1.499                  # xi-1, previous point to intial guess \n",
    "u = 2                       # Upper bound \n",
    "f_x  = lambda x: x**6 -x -1 # Function\n",
    "n=10                        # Number of iterations\n",
    "\n",
    "r,r_vec = secant(xi,xi_1,l,u,f_x,n) # Apply Function\n",
    "print(f\"Rood found at {r}\") # Print Root"
   ]
  },
  {
   "cell_type": "markdown",
   "metadata": {},
   "source": [
    "## 3.1 Secant Modefied\n",
    "Instead of using two arbitrary values to approximate the derivative, an alternative method considers a fractional change of the independent variable to estimate $ƒ ^{′}(x)$: \n",
    "\n",
    "\n",
    "$$ f^{'}(x_i) = \\frac{f(x_{i} + \\Delta x_i)- f(x_i)}{\\Delta x_i} $$\n",
    "\n",
    "Which leads to:\n",
    "\n",
    "$$ x_{n+1} = x_{n} - \\frac{f(x_n) }{f^{'}(x_n)} = x_{n} - f(x_n) \\frac{\\Delta  x_i }{f(x_{i}+\\Delta x_i)- f(x_i)} $$\n",
    "\n",
    "<font color=\"red\"> You will see that this is better than the normal Secant Method, since  it only need 1 intial point </font>"
   ]
  },
  {
   "cell_type": "code",
   "execution_count": 109,
   "metadata": {},
   "outputs": [
    {
     "name": "stdout",
     "output_type": "stream",
     "text": [
      "Rood found at 1.1347241384015194\n"
     ]
    }
   ],
   "source": [
    "def secant_modified(x,dx,l,u,f_x,n):\n",
    "    \"\"\" Secant Modified Method:\n",
    "    x:    Intial guess of root    type(float)\n",
    "    dx:   Step                    type(float)\n",
    "    l:    Lower bound of interval type(float)\n",
    "    u:    Upper bound of interval type(float)\n",
    "    f_x:  Function to evaluate    type(lambda)\n",
    "    n:    Number of Iterations    type(int)\n",
    "    \"\"\"\n",
    "    r_vec = []\n",
    "    if f_x(l)*f_x(u) < 0:           # Check if there is a root in interval\n",
    "    \n",
    "        for iteration in range(0,n):           # Iterate n times\n",
    "            try:\n",
    "                f1_x = (dx)/(f_x(x+dx)-f_x(x)) # Estiamte the inverse of the first derivative\n",
    "                x = x - f_x(x)*f1_x            # Compute Netwon Raspon with Secant variation \n",
    "                r_vec.append(r_vec)            # Save Results\n",
    "            except:\n",
    "                # IF we get to close to the root the enxt value will not change much, this will cause a porblem\n",
    "                print(f\"Can not go futrther than  itration {iteration} \") \n",
    "                break\n",
    "    else: \n",
    "         raise Exception(f\"No root in interval [{l},{u}]\") # Raise error if no root in interval\n",
    "    return x, r_vec\n",
    "\n",
    "### Lets apply the function ###\n",
    "l = 1                       # Lower bound\n",
    "x= 1.5                      # Intial guess for root l < x_o < u\n",
    "dx= 0.01                    # derivative step\n",
    "u = 2                       # Upper bound \n",
    "f_x  = lambda x: x**6 -x -1 # Function\n",
    "n=30                        # Number of iterations\n",
    "\n",
    "r,r_vec = secant_modified(xi,dx,l,u,f_x,n) # Apply Function\n",
    "print(f\"Rood found at {r}\") # Print Root"
   ]
  },
  {
   "cell_type": "code",
   "execution_count": null,
   "metadata": {},
   "outputs": [],
   "source": []
  }
 ],
 "metadata": {
  "kernelspec": {
   "display_name": "Python 3",
   "language": "python",
   "name": "python3"
  },
  "language_info": {
   "codemirror_mode": {
    "name": "ipython",
    "version": 3
   },
   "file_extension": ".py",
   "mimetype": "text/x-python",
   "name": "python",
   "nbconvert_exporter": "python",
   "pygments_lexer": "ipython3",
   "version": "3.7.7"
  }
 },
 "nbformat": 4,
 "nbformat_minor": 4
}
