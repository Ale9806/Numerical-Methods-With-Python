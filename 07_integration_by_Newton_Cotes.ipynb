{
 "cells": [
  {
   "cell_type": "code",
   "execution_count": 2,
   "metadata": {},
   "outputs": [
    {
     "data": {
      "text/html": [
       "\n",
       "<style>\n",
       ".output_png {\n",
       "    display: table-cell;\n",
       "    text-align: center;\n",
       "    vertical-align: middle;\n",
       "}\n",
       "</style>\n"
      ],
      "text/plain": [
       "<IPython.core.display.HTML object>"
      ]
     },
     "execution_count": 2,
     "metadata": {},
     "output_type": "execute_result"
    }
   ],
   "source": [
    "### Import libraries ###\n",
    "import numpy as np\n",
    "import matplotlib.pyplot as plt\n",
    "from IPython.core.display import HTML\n",
    "HTML(\"\"\"\n",
    "<style>\n",
    ".output_png {\n",
    "    display: table-cell;\n",
    "    text-align: center;\n",
    "    vertical-align: middle;\n",
    "}\n",
    "</style>\n",
    "\"\"\")"
   ]
  },
  {
   "cell_type": "markdown",
   "metadata": {},
   "source": [
    "# Newton-Cotes\n",
    "Newton-Cotes formulas are the most common types of numerical integration. They are based on the strategy of replacing a complicated function or tabulated data by an approximation polynomial that is easy to integrate:\n",
    "\n",
    "$$ I = \\int_a^bf(x)dx \\approx \\int_a^b f_n(x)dx$$\n",
    "\n",
    "Where $ f_n(x) $ is a polynomial of the form:\n",
    "\n",
    "$$ f_n(x) = a_0 +a_1x + ... + a_{n-1}x^{n-1} + a_nx^n $$\n",
    "\n",
    "There are closed and open forms of the Newton-Cotes formulas. The closed forms\n",
    "are those where the data is known at the beginning and at the end of the limits of integration. Open forms have limits of integration that extend beyond the range of the data. \n",
    "\n",
    "## Closed Forms\n",
    "\n",
    "### 1.-Trapezoidal Rule\n",
    "\n",
    "The trapezoidal rule is the first of NewtonCotes's closed integration formulas. It corresponds to the case where the polynomial  is of the first degree:\n",
    "\n",
    "$$ I = \\int_a^bf(x)dx \\approx \\int_a^b f_1(x)dx$$\n",
    "\n",
    "A function can be converted to a first order polinomial with a Taylor series:\n",
    "\n",
    "$$ f_1(x) = f(a) + \\frac{f(b)-f(a)}{b-a}(x-a)$$\n",
    "\n",
    "Now lets integrate the approximation:\n",
    "\n",
    "$$ I =\\int_a^b[ f(a) + \\frac{f(b)-f(a)}{b-a}(x-a)]dx$$\n",
    "\n",
    "We open the multiplication of $(x-a)$\n",
    "\n",
    "$$ I =\\int_a^b[ f(a) + \\frac{f(b)-f(a)}{b-a}(x)-\\frac{f(b)-f(a)}{b-a}(a)]dx$$\n",
    "\n",
    "We sum up $f(a)$ with the fraction that has no x\n",
    "\n",
    "$$ I =\\int_a^b[\\frac{f(b)-f(a)}{b-a}(x)+\\frac{f(a)(b-a) - af(b)+af(a)}{b-a}]dx$$\n",
    "\n",
    "Lets open $f(a)(b-a)$\n",
    "and solve the integral\n",
    "\n",
    "$$ I =\\frac{f(b)-f(a)}{b-a}\\frac{x^2}{2}|_a^b+\\frac{bf(a)-af(a) - af(b)+af(a)}{b-a}x|_a^b$$\n",
    "\n",
    "Lets evaluate the integral  (Notice that $af(a) -af(a)=0$\n",
    "\n",
    "$$ I =\\frac{f(b)-f(a)}{b-a}\\frac{(b-a)^2}{2}+\\frac{bf(a)-af(b)}{b-a}(b-a)$$\n",
    "\n",
    "We know that $(b-a)^2 = (b+a)(b-a) $ so:\n",
    "\n",
    "$$ I =\\frac{f(b)-f(a)}{b-a}\\frac{(b+a)(b-a)}{2}+\\frac{bf(a)-af(b)}{b-a}(b-a)$$\n",
    "\n",
    "We have $(b-a)$ both in the denominator and numerator of both fraction, lets get rid of it:\n",
    "\n",
    "$$ I =[f(b)-f(a)]\\frac{(b+a)}{2}+bf(a)-af(b)$$\n",
    "\n",
    "Lets open the multiplication and grup terms\n",
    "\n",
    "$$ I = f(b)\\frac{b+a)}{2}- af(b) -f(a)\\frac{b+a}{2}+bf(a)$$\n",
    "\n",
    "Lets factor out $f(b)$ and $f(a)$\n",
    "\n",
    "$$ I = f(b)\\frac{b+a-2a}{2} + f(a)\\frac{2b-b-a}{2}$$\n",
    "\n",
    "Solve\n",
    "\n",
    "$$ I = f(b)\\frac{b-a}{2} + f(a)\\frac{b-a}{2}$$\n",
    "\n",
    "Factor out:\n",
    "\n",
    "$$ I = [f(b)+f(a)]\\frac{b-a}{2}$$\n",
    "\n",
    "Re order it:\n",
    "\n",
    "$$ I = (b-a)\\frac{f(b)+f(a)}{2}$$\n",
    "\n",
    "\n",
    "Allt this math to find something really simple, you can calculate an integral by getting the area of a rectangle \n",
    "\n",
    "$$ I = f(h)dx$$\n",
    "\n",
    "Where $f(h) =\\frac{f(b)+f(a)}{2}$ is the mean hight of the interval\n",
    "\n",
    "**Example:** Evaluate the integral for  $f_x = x^2e^{-x} +2$ with the trapezoidal method from 0 to 4"
   ]
  },
  {
   "cell_type": "code",
   "execution_count": 13,
   "metadata": {},
   "outputs": [
    {
     "data": {
      "image/png": "[encoded data removed]",
      "text/plain": [
       "<Figure size 720x432 with 1 Axes>"
      ]
     },
     "metadata": {
      "needs_background": "light"
     },
     "output_type": "display_data"
    },
    {
     "name": "stdout",
     "output_type": "stream",
     "text": [
      "Integral by Trapezodial method: 8.586100444439493\n",
      "Real Value of Integral:         9.523793\n",
      "Relative percent Error:         9.85 %\n"
     ]
    }
   ],
   "source": [
    "### Trapezoidal method ####\n",
    "x = np.linspace(-1,5,100)\n",
    "f_x = (x**2)*np.exp(-x) +2\n",
    "f= lambda x: (x**2)*np.exp(-x) +2\n",
    "a=0\n",
    "b=4\n",
    "mean = (f(b)+f(a))/2\n",
    "### End of Method ###\n",
    "\n",
    "#### MAKE A DESCENT PLOT ####\n",
    "Trapezoidal_integral =  mean*(b-a)\n",
    "Real_integral =  9.523793\n",
    "Relative_percent_error =  100*(Real_integral - Trapezoidal_integral)/Real_integral\n",
    "### Plot ###\n",
    "plt.figure(figsize=(10,6))\n",
    "plt.plot(x,f_x)\n",
    "plt.axvline(x=a,ymax=0.439,color='green', linestyle='--',label=\"a\")\n",
    "plt.axvline(x=b,ymax=0.43,color='blue', linestyle='--',label=\"b\")\n",
    "\n",
    "# Integral\n",
    "plt.axhline(y=mean,xmin=0.17,xmax=0.837,color='red', linestyle='--',label=\"mean hight\")\n",
    "\n",
    "plt.title(\"Integral by Taprezoidal Rule\")\n",
    "plt.xlim((-1,5))\n",
    "plt.ylim((0,5))\n",
    "plt.legend()\n",
    "plt.show()\n",
    "\n",
    "print(f\"Integral by Trapezodial method: {Trapezoidal_integral}\")\n",
    "print(f\"Real Value of Integral:         {Real_integral}\")\n",
    "print(f\"Relative percent Error:         {round(Relative_percent_error,2)} %\")"
   ]
  },
  {
   "cell_type": "markdown",
   "metadata": {},
   "source": [
    "As we can see this method is easy to implement but it is not accurate, one way to improve the accuracy of the trapezoidal rule is to divide the integration interval from a to b into several segments, and apply the method to each of them.\n",
    "\n",
    "### 2.- Compound Trapezoidal Method\n",
    "\n",
    "$$ I = h\\frac{f(x_0)+f(x_1)}{2} +h\\frac{f(x_1)+f(x_2)}{2}+h\\frac{f(x_2)+f(x_3)}{2}+...+h\\frac{f(x_{n-1})+f(x_n)}{2}$$\n",
    "\n",
    "Where $ h= \\frac{b-a}{n} $\n",
    "\n",
    "This can also be written as:\n",
    "\n",
    "$$ I = \\frac{h}{2} [ f(x_0) + 2 [\\sum_{i=1}^{n-1}f(x_i)]+f(x_n) ] $$\n",
    "\n",
    "lets substitute h:\n",
    "\n",
    "$$ I = \\frac{b-a}{2n} [ f(x_0) + 2 [\\sum_{i=1}^{n-1}f(x_i)]+f(x_n) ] $$\n",
    "\n",
    "**Example:** Evaluate the integral for  $f_x = x^2e^{-x} +2$ with the compund trapezoidal method from 0 to 4"
   ]
  },
  {
   "cell_type": "code",
   "execution_count": 4,
   "metadata": {},
   "outputs": [
    {
     "name": "stdout",
     "output_type": "stream",
     "text": [
      "Compound Trapezodial method with 10 points: 9.521627781304417\n",
      "Real Value of Integral:         9.523793\n",
      "Relative percent Error:         0.02 %\n"
     ]
    }
   ],
   "source": [
    "### Method with linspace ###\n",
    "def compound_tapezoidal(a,b,n,f):\n",
    "    \"\"\"Compound Trapezoidal method, Input:\n",
    "       a: First point of evalulation type(float)\n",
    "       b: Last  point of evaluation  type(float)\n",
    "       n: Number of points           type(float) \n",
    "       f: Function to evaluate       type(lambda)\"\"\"\n",
    "    \n",
    "    x = np.linspace(a,b,n+1) # Create a vector from the interval [a,b] with n+1 points (since we start counting from 0)\n",
    "    suma=0                   # Init empty  sumation\n",
    "    for i in range(1,n):     # Iterate over the ponts, except for the inf and sup points\n",
    "        suma+= f(x[i])       # Summation\n",
    "    \n",
    "    ### Compound trapezoidal formula ###\n",
    "    integral =  ((b-a)/(2*n))*( f(x[0])+ 2*suma + f(x[n]) )\n",
    "    \n",
    "    return integral \n",
    "a=0\n",
    "b=4\n",
    "n=10\n",
    "f= lambda x: (x**2)*np.exp(-x) +2\n",
    "approximation = compound_tapezoidal(a,b,n,f)\n",
    "Real_integral =  9.523793\n",
    "Relative_percent_error =  100*(Real_integral - approximation)/Real_integral\n",
    "print(f\"Compound Trapezodial method with {n} points: {approximation}\")\n",
    "print(f\"Real Value of Integral:         {Real_integral}\")\n",
    "print(f\"Relative percent Error:         {round(Relative_percent_error,2)} %\")"
   ]
  },
  {
   "cell_type": "code",
   "execution_count": 3,
   "metadata": {},
   "outputs": [
    {
     "name": "stdout",
     "output_type": "stream",
     "text": [
      "Compound Trapezodial method with 10 points: 9.521627781304417\n",
      "Real Value of Integral:         9.523793\n",
      "Relative percent Error:         0.02 %\n"
     ]
    }
   ],
   "source": [
    "### Method without linspace  ###\n",
    "def compound_tapezoidal_v2(a,b,n,f):\n",
    "    \"\"\"Compound Trapezoidal method, Input:\n",
    "       a: First point of evalulation type(float)\n",
    "       b: Last  point of evaluation  type(float)\n",
    "       n: Number of points           type(float) \n",
    "       f: Function to evaluate       type(lambda)\"\"\"\n",
    "    \n",
    "    h= (b-a)/n\n",
    "    suma=0                   # Init empty  sumation\n",
    "    for i in range(1,n):     # Iterate over the ponts, except for the inf and sup points\n",
    "        suma+= f(a+h*i)       # Summation\n",
    "    \n",
    "    ### Compound trapezoidal formula ###\n",
    "    integral =  ((b-a)/(2*n))*( f(a)+ 2*suma + f(b) )\n",
    "    \n",
    "    return integral \n",
    "a=0\n",
    "b=4\n",
    "n=10\n",
    "f= lambda x: (x**2)*np.exp(-x) +2\n",
    "approximation = compound_tapezoidal_v2(a,b,n,f)\n",
    "Real_integral =  9.523793\n",
    "Relative_percent_error =  100*(Real_integral - approximation)/Real_integral\n",
    "print(f\"Compound Trapezodial method with {n} points: {approximation}\")\n",
    "print(f\"Real Value of Integral:         {Real_integral}\")\n",
    "print(f\"Relative percent Error:         {round(Relative_percent_error,2)} %\")"
   ]
  },
  {
   "cell_type": "markdown",
   "metadata": {},
   "source": [
    "In addition to applying the trapezoid rule with finer segmentation, another form of obtaining a more accurate estimate of an integral consists in using polynomials of superior ordder to connect the dots. For example, if there is another point midway between f (a) and f (b),\n",
    "the three points can be joined with a parabola. If there are two equally spaced points between f (a) and f (b), the four points can be joined by a polynomial of third degree. The formulas that result from taking the integrals\n",
    "under these polynomials they are known as Simpson's rules.\n",
    "\n",
    "### 3.1 Simpson's Rule 1/3\n",
    "Simpson's rule 1/3 results when a second-degree interpolation polynomial is substituted into the equation:\n",
    "\n",
    "$$ I = \\int_a^bf(x)dx \\cong \\int_a^b f_2(x)dx$$\n",
    "\n",
    "If $a=x_0$ and $b=x_2$  and $ f_2(x) $ is represented by a Lagrange polynomial of second degree, the integral becomes:\n",
    "\n",
    "\n",
    "$$ I \\cong  \\int_{x_o}^{x_1} [ \\frac{(x-x_1)(x-x_2)}{(x_0-x_1)(x_0-x_2)}f(x_0)\n",
    "+\\frac{(x-x_0)(x-x_2)}{(x_1-x_0)(x_1-x_2)}f(x_1)+\n",
    "\\frac{(x-x_0)(x-x_1)}{(x_2-x_0)(x_2-x_1)}f(x_2)]dx$$\n",
    "\n",
    "After integration and algebraic manipulations, the following formula is obtained:\n",
    "\n",
    "$$ I \\cong \\frac{h}{3}[f(x_0)+4f(x_1)+f(x_2)] $$\n",
    "\n",
    "with $ h=\\frac{(b-a)}{n} $ \n",
    "\n",
    "\n",
    "\n",
    "We could just use this to calculate an integral, but as we saw prevously it is better  to divide the intervals in sub intervals, therefore:\n",
    "$$ I \\cong \\int_{x_0}^{x_2}f(x)dx  +\\int_{x_2}^{x_4}f(x)dx +...+ \\int_{x_{n-2}}^{x_n}f(x)dx  $$\n",
    "\n",
    "\n",
    "$$ I \\cong \\frac{h}{3}[f(x_0)+4f(x_1)+f(x_2)] + \\frac{h}{3}[f(x_2)+4f(x_3)+f(x_4)] + ...+ \\frac{h}{3}[f(x_{n-2})+4f(x_{n-1})+f(x_n)] $$\n",
    "\n",
    "After  a short manipulation the viewer can proof the following:\n",
    "\n",
    "$$ I \\cong (b-a) \\frac{f(x_0)+4 \\sum_{i=1,3,5..(odd)}^{n-1}f(x_i)+2 \\sum_{j=2,4,6..(even)}^{n-2}f(x_j) +f(x_n)}{3n}$$"
   ]
  },
  {
   "cell_type": "code",
   "execution_count": 6,
   "metadata": {},
   "outputs": [
    {
     "name": "stdout",
     "output_type": "stream",
     "text": [
      "Compound Trapezodial method with 10 points: 9.524599411366772\n",
      "Real Value of Integral:         9.523793\n",
      "Relative percent Error:         -0.01 %\n"
     ]
    }
   ],
   "source": [
    "### Method with linspace ###\n",
    "def simpson_1_8(a,b,n,f):\n",
    "    \"\"\"Simpson 1/8  method, Input:\n",
    "       a: First point of evalulation type(float)\n",
    "       b: Last  point of evaluation  type(float)\n",
    "       n: Number of points           type(float) \n",
    "       f: Function to evaluate       type(lambda)\"\"\"\n",
    "    \n",
    "    x = np.linspace(a,b,n+1) # Create a vector from the interval [a,b] with n+1 points (since we start counting from 0)\n",
    "    suma1=0                # Init empty Sumation1\n",
    "    suma2=0                # Init empty Sumation2\n",
    "    for i in range(1,n): # Iterate over the ponts, except for the inf and sup points\n",
    "        if i% 2 == 0:      # If i is even \n",
    "            suma1+=f(x[i]) \n",
    "        else:              # If i is odd\n",
    "            suma2+=f(x[i])\n",
    "            \n",
    "    ### Compound trapezoidal formula ###\n",
    "    integral =  ((b-a)/(3*n))*( f(x[0])+ 4*suma2 + 2*suma1 + f(x[n]) )\n",
    "    return integral \n",
    "\n",
    "a=0\n",
    "a=0\n",
    "b=4\n",
    "n=10\n",
    "f= lambda x: (x**2)*np.exp(-x) +2\n",
    "approximation = simpson_1_8(a,b,n,f)\n",
    "Real_integral =  9.523793\n",
    "Relative_percent_error =  100*(Real_integral - approximation)/Real_integral\n",
    "print(f\"Compound Trapezodial method with {n} points: {approximation}\")\n",
    "print(f\"Real Value of Integral:         {Real_integral}\")\n",
    "print(f\"Relative percent Error:         {round(Relative_percent_error,2)} %\")"
   ]
  },
  {
   "cell_type": "code",
   "execution_count": 7,
   "metadata": {},
   "outputs": [
    {
     "name": "stdout",
     "output_type": "stream",
     "text": [
      "Compound Trapezodial method with 4 points: 1.6234666666666717\n",
      "Real Value of Integral:         1.640533\n",
      "Relative percent Error:         1.04 %\n"
     ]
    }
   ],
   "source": [
    "### VALIDATION EXAMPLE, Book page: 635 ### \n",
    "a=0\n",
    "b=0.8\n",
    "n=4\n",
    "f= lambda x: 0.2 + 25*x - 200*x**2 +675*x**3 - 900*x**4 + 400*x**5\n",
    "approximation = simpson_1_8(a,b,n,f)\n",
    "Real_integral =  1.640533\n",
    "Relative_percent_error =  100*(Real_integral - approximation)/Real_integral\n",
    "print(f\"Compound Trapezodial method with {n} points: {approximation}\")\n",
    "print(f\"Real Value of Integral:         {Real_integral}\")\n",
    "print(f\"Relative percent Error:         {round(Relative_percent_error,2)} %\")"
   ]
  },
  {
   "cell_type": "code",
   "execution_count": 5,
   "metadata": {},
   "outputs": [
    {
     "name": "stdout",
     "output_type": "stream",
     "text": [
      "Compound Trapezodial method with 4 points: 1.6234666666666717\n",
      "Real Value of Integral:         1.640533\n",
      "Relative percent Error:         1.04 %\n"
     ]
    }
   ],
   "source": [
    "### VALIDATION EXAMPLE, Book page: 635 ### \n",
    "## SAME Method but without np.linspace  ###\n",
    "def simpson_1_8_v1(a,b,n,f):\n",
    "    \"\"\"Simpson 1/8  method, Input:\n",
    "       a: First point of evalulation type(float)\n",
    "       b: Last  point of evaluation  type(float)\n",
    "       n: Number of points           type(float) \n",
    "       f: Function to evaluate       type(lambda)\"\"\"\n",
    "    \n",
    "    h = (b-a)/n            # Steps \n",
    "    suma1=0                # Init empty Sumation1\n",
    "    suma2=0                # Init empty Sumation2\n",
    "    for i in range(1,n): # Iterate over the ponts, except for the inf and sup points\n",
    "        if i% 2 == 0:      # If i is even \n",
    "            suma1+=f(a+i*h) \n",
    "        else:              # If i is odd\n",
    "            suma2+=f(a+i*h)\n",
    "            \n",
    "    ### Compound trapezoidal formula ###\n",
    "    integral =  ((b-a)/(3*n))*( f(a)+ 4*suma2 + 2*suma1 + f(b) )\n",
    "    \n",
    "    return integral \n",
    "a=0\n",
    "b=0.8\n",
    "n=4\n",
    "f= lambda x: 0.2 + 25*x - 200*x**2 +675*x**3 - 900*x**4 + 400*x**5\n",
    "approximation = simpson_1_8_v1(a,b,n,f)\n",
    "Real_integral =  1.640533\n",
    "Relative_percent_error =  100*(Real_integral - approximation)/Real_integral\n",
    "print(f\"Compound Trapezodial method with {n} points: {approximation}\")\n",
    "print(f\"Real Value of Integral:         {Real_integral}\")\n",
    "print(f\"Relative percent Error:         {round(Relative_percent_error,2)} %\")"
   ]
  },
  {
   "cell_type": "markdown",
   "metadata": {},
   "source": [
    "### 3.2 Simpson's Rule 3/8\n",
    "Similarly to obtaining the trapezoid rule and Simpson 1/3, it is possible to fit a third degree Lagrange polynomial to four points and integrate it\n",
    "$$ I = \\int_a^bf(x)dx \\cong \\int_a^b f_3(x)dx$$\n",
    "\n",
    "In order to obtain:\n",
    "\n",
    "$$ I \\cong \\frac{3h}{8}[f(x_0)+3f(x_1)+3f(x_2)+f(x_3)] $$\n",
    "\n",
    "$$ \\int_a^b f(x) \\cong  \\frac{3h}{8}[f(a) +2 \\sum_{i=3,6,9}^{n=3}f(x_i)+3\\sum_{j=1,2,4,5,7}^{n=1}f(x_i) + f(b)]$$\n",
    "\n",
    "with $h=\\frac{b-a}{n} $"
   ]
  },
  {
   "cell_type": "code",
   "execution_count": 11,
   "metadata": {},
   "outputs": [
    {
     "name": "stdout",
     "output_type": "stream",
     "text": [
      "Compound Trapezodial method with 3 points: 1.519170370370378\n",
      "Real Value of Integral:         1.640533\n",
      "Relative percent Error:         7.4 %\n"
     ]
    }
   ],
   "source": [
    "### Method with linspace  ###\n",
    "def simpson_3_8(a,b,n,f):\n",
    "    \"\"\"Simpson 3/8 method, Input:\n",
    "       a: First point of evalulation type(float)\n",
    "       b: Last  point of evaluation  type(float)\n",
    "       n: Number of points           type(float) \n",
    "       f: Function to evaluate       type(lambda)\"\"\"\n",
    "    \n",
    "    x = np.linspace(a,b,n+1) # Create a vector from the interval [a,b] with n+1 points (since we start counting from 0)\n",
    "    suma1=0                # Init empty Sumation1\n",
    "    suma2=0                # Init empty Sumation2\n",
    "    for i in range(1,n): # Iterate over the ponts, except for the inf and sup points\n",
    "        if i% 3 == 0:      # If i is a multiple of 3\n",
    "            suma1+=f(x[i]) \n",
    "        else:              # If i is not a multiple of 3 \n",
    "            suma2+=f(x[i])\n",
    "            \n",
    "    ### Compound trapezoidal formula ###\n",
    "    integral =  (3*(b-a)/(8*n))*( f(x[0])+ 3*suma2 + 2*suma1 + f(x[n]) )\n",
    "    \n",
    "    return integral \n",
    "\n",
    "### VALIDATION EXAMPLE, Book page: 637 -638 ### \n",
    "a=0\n",
    "b=0.8\n",
    "n=3\n",
    "f= lambda x: 0.2 + 25*x - 200*x**2 +675*x**3 - 900*x**4 + 400*x**5\n",
    "approximation = simpson_3_8(a,b,n,f)\n",
    "Real_integral =  1.640533\n",
    "Relative_percent_error =  100*(Real_integral - approximation)/Real_integral\n",
    "print(f\"Compound Trapezodial method with {n} points: {approximation}\")\n",
    "print(f\"Real Value of Integral:         {Real_integral}\")\n",
    "print(f\"Relative percent Error:         {round(Relative_percent_error,2)} %\")"
   ]
  },
  {
   "cell_type": "code",
   "execution_count": 12,
   "metadata": {},
   "outputs": [
    {
     "name": "stdout",
     "output_type": "stream",
     "text": [
      "Compound Trapezodial method with 3 points: 1.519170370370378\n",
      "Real Value of Integral:         1.640533\n",
      "Relative percent Error:         7.4 %\n"
     ]
    }
   ],
   "source": [
    "### Method without linspace  ###\n",
    "def simpson_3_8_v2(a,b,n,f):\n",
    "    \"\"\"Simpson 3/8 method, Input:\n",
    "       a: First point of evalulation type(float)\n",
    "       b: Last  point of evaluation  type(float)\n",
    "       n: Number of points           type(float) \n",
    "       f: Function to evaluate       type(lambda)\"\"\"\n",
    "    \n",
    "    h = (b-a)/n            # Steps \n",
    "    suma1=0                # Init empty Sumation1\n",
    "    suma2=0                # Init empty Sumation2\n",
    "    for i in range(1,n): # Iterate over the ponts, except for the inf and sup points\n",
    "        if i% 3 == 0:      # If i is a multiple of 3\n",
    "            suma1+=f(a+i*h) \n",
    "        else:              # If i is not a multiple of 3 \n",
    "            suma2+=f(a+i*h)\n",
    "            \n",
    "    ### Compound trapezoidal formula ###\n",
    "    integral =  (3*(b-a)/(8*n))*( f(a)+ 3*suma2 + 2*suma1 + f(b) )\n",
    "    \n",
    "    return integral \n",
    "\n",
    "### VALIDATION EXAMPLE, Book page: 637 -638 ### \n",
    "a=0\n",
    "b=0.8\n",
    "n=3\n",
    "f= lambda x: 0.2 + 25*x - 200*x**2 +675*x**3 - 900*x**4 + 400*x**5\n",
    "approximation = simpson_3_8_v2(a,b,n,f)\n",
    "Real_integral =  1.640533\n",
    "Relative_percent_error =  100*(Real_integral - approximation)/Real_integral\n",
    "print(f\"Compound Trapezodial method with {n} points: {approximation}\")\n",
    "print(f\"Real Value of Integral:         {Real_integral}\")\n",
    "print(f\"Relative percent Error:         {round(Relative_percent_error,2)} %\")"
   ]
  },
  {
   "cell_type": "markdown",
   "metadata": {},
   "source": [
    "### 4 intergration with unequal segments:\n",
    "add uneqal segments"
   ]
  }
 ],
 "metadata": {
  "kernelspec": {
   "display_name": "Python 3",
   "language": "python",
   "name": "python3"
  },
  "language_info": {
   "codemirror_mode": {
    "name": "ipython",
    "version": 3
   },
   "file_extension": ".py",
   "mimetype": "text/x-python",
   "name": "python",
   "nbconvert_exporter": "python",
   "pygments_lexer": "ipython3",
   "version": "3.7.7"
  }
 },
 "nbformat": 4,
 "nbformat_minor": 4
}
