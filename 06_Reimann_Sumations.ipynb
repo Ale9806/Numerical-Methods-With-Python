{
 "cells": [
  {
   "cell_type": "markdown",
   "metadata": {},
   "source": [
    "**Riemann Sums**\n",
    "\n",
    "A Riemann Sum is a certain kind of approximation of an integrail by a finite sum. <br> <br>\n",
    "<font color=\"green\"> Deffinition </font> \n",
    "Let $ f:[a,b] \\rightarrow R $ be defined on a closed interval  $ [a,b] \\in R $ and $ P =  [ [x_0,x_1],[x_1,x_2],...,[x_{n-1},x_n] ]$ be a partition of an Interval  where $ a =x_0 < x_1< x_2 < .... < x_{n-1} <x_n = b $ ( x is monotonically increasing) <br>\n",
    "\n",
    "We define a Reimann sum ( $S$ ) of $ f(x) $ over the interval $ I $  with partion  $ P $  as : <br>\n",
    "$$ S = \\sum_{i=1}^n f(x_i^*)  \\Delta x_i$$\n",
    "Where: \n",
    "<br>\n",
    "$ x_i = a + i*\\Delta x  $ ................................. $ x_i  $ . incrementes in $ *\\Delta x  $ steps.\n",
    "<br>\n",
    "$ x_i^* \\in [x_{i-1},x_i] $.................................... $ x_i^* $ can be any point in $[x_{i-1},x_i]$.\n",
    "<br>\n",
    "$\\Delta x =  x_i - x_{i-1}  = \\frac{ b-a}{n}$.......................$\\Delta x $ depends on $ Inf(f(X)) $ , $ Sup(f(x)) $ and the number of points $ n $.\n",
    "<br>\n",
    "\n",
    "It does not matter which point $ x_i^* $ in the interval $ [x_{i-1},x_i] $ is taken,  when  the differnece of width of the summands $  \\Delta x $ approaches zero, so does the difference between any two points in the interval.\n",
    "\n",
    "$$\\lim_{\\Delta x \\rightarrow 0} \\rightarrow  x_{i-1} - x_i = 0$$\n",
    "\n",
    "<br>\n",
    "\n",
    "**Riemann Sums:**\n",
    "<ol>\n",
    "    <li> Left Riemann Sum: $ x_i^* = x_{i-1}$</li>\n",
    "    <li> Right Riemann Sum: $ x_i^* = x_{i}$</li>\n",
    "    <li> Middle Riemann Sum: $ x_i^* = \\frac{x_{i}+x_{i-1}}{2} $ </li>\n",
    "   \n",
    "  \n",
    "</ol>\n",
    "\n",
    "**Deffinition of integral by Right Riemann Sum**\n",
    "$$\\lim_{n \\rightarrow \\infty} \\sum_{i=1}^n f(x_i^*) \\Delta x = \\int_a^b f(x) dx = \\lim_{\\Delta x \\to 0}  \\sum_{i=1}^n f(x_i^*) \\Delta x $$\n",
    "\n",
    "If we make the substitions for $ x_i $ and $ \\Delta x $:\n",
    "\n",
    "$$ \\int_a^b f(x) dx = \\lim_{\\Delta x \\to 0}  \\sum_{i=1}^n f( a + (\\frac{b-a}{n})i )*\n",
    "( \\frac{b-a}{n} )$$\n",
    "\n",
    "**Deffinition of integral by Middle Riemann Sum**\n",
    "\n",
    "$$ \\int_a^b f(x) dx = \\lim_{\\Delta x \\to 0}  \\sum_{i=0}^n f( \\frac{a + (\\frac{b-a}{n})i + a + (\\frac{b-a}{n})(i+1)}{2})*\n",
    "( \\frac{b-a}{n} )$$\n",
    "\n",
    "**Example:**\n",
    "Obtain the Riemann sumation (integral approximation) of the function $ f(x) = e^{2x} $ for the close interval $[2,5]$. <br>Analitical solution: $ F(x) = 2e^{2x} |_2^5= 2e^{(2*5)} - 2e^{(2*2)} = 282.048..$ "
   ]
  },
  {
   "cell_type": "code",
   "execution_count": 1,
   "metadata": {},
   "outputs": [
    {
     "data": {
      "text/html": [
       "\n",
       "<style>\n",
       ".output_png {\n",
       "    display: table-cell;\n",
       "    text-align: center;\n",
       "    vertical-align: middle;\n",
       "}\n",
       "</style>\n"
      ],
      "text/plain": [
       "<IPython.core.display.HTML object>"
      ]
     },
     "execution_count": 1,
     "metadata": {},
     "output_type": "execute_result"
    }
   ],
   "source": [
    "# Import Libraries\n",
    "import numpy as np\n",
    "from math import *\n",
    "import matplotlib.pyplot as plt\n",
    "from IPython.core.display import HTML\n",
    "HTML(\"\"\"\n",
    "<style>\n",
    ".output_png {\n",
    "    display: table-cell;\n",
    "    text-align: center;\n",
    "    vertical-align: middle;\n",
    "}\n",
    "</style>\n",
    "\"\"\")"
   ]
  },
  {
   "cell_type": "code",
   "execution_count": 48,
   "metadata": {},
   "outputs": [
    {
     "name": "stdout",
     "output_type": "stream",
     "text": [
      "Interval: 2 to 5, number of points: 20, dx: 0.15, Analytical Solution: 282.0482060072919\n"
     ]
    }
   ],
   "source": [
    "# Intialization for Right Riemann Sum (ONLY FOR PLOT )\n",
    "F_analytical= 2*(np.exp(5) - np.exp(2)) # Analytical Solution\n",
    "a = 2        # inf[f(x)]  Lower boundary\n",
    "b = 5        # sup[f(x)]  Upper boundary\n",
    "n = 20       # Number of points\n",
    "dx = (b-a)/n # dx by definition\n",
    "#SUMMARY\n",
    "print(f\"Interval: {a} to {b}, number of points: {n}, dx: {dx}, Analytical Solution: {F_analytical}\")"
   ]
  },
  {
   "cell_type": "code",
   "execution_count": 49,
   "metadata": {},
   "outputs": [
    {
     "name": "stdout",
     "output_type": "stream",
     "text": [
      "[2.   2.15 2.3  2.45 2.6  2.75 2.9  3.05 3.2  3.35 3.5  3.65 3.8  3.95\n",
      " 4.1  4.25 4.4  4.55 4.7  4.85 5.  ]\n"
     ]
    }
   ],
   "source": [
    "# Initialization of xi (this is only used in order to plot the function)\n",
    "# by definition xi = a + dxi\n",
    "x = []\n",
    "xi = a\n",
    "for i in range(0,20+1):\n",
    "    xi = a + dx*i\n",
    "    x.append(xi)\n",
    "x = np.array(x) # convertion to numpy array (for better performance)\n",
    "print(x)"
   ]
  },
  {
   "cell_type": "code",
   "execution_count": 50,
   "metadata": {},
   "outputs": [
    {
     "data": {
      "image/png": "[encoded data removed]",
      "text/plain": [
       "<Figure size 720x360 with 1 Axes>"
      ]
     },
     "metadata": {
      "needs_background": "light"
     },
     "output_type": "display_data"
    }
   ],
   "source": [
    "# Plot function\n",
    "#f_x = np.exp(x)             # Definition of f(x)\n",
    "plt.figure(figsize=(10,5))  # Adjust Fig size\n",
    "plt.plot(x,f_x)             # plot function x,f(x)\n",
    "plt.plot(a,np.exp(a),\"*r\")  # inf[f(x)]  Lower boundary\n",
    "plt.plot(b,np.exp(b),\"*g\")  # sup[f(x)]  Upper boundary\n",
    "\n",
    "# Cutomize output \n",
    "plt.title(\"Expontential from 2 to 5\")\n",
    "plt.grid()\n",
    "plt.show()"
   ]
  },
  {
   "cell_type": "markdown",
   "metadata": {},
   "source": [
    "#### Right Reimman Sum"
   ]
  },
  {
   "cell_type": "code",
   "execution_count": 60,
   "metadata": {},
   "outputs": [
    {
     "name": "stdout",
     "output_type": "stream",
     "text": [
      "enter the number of points n=100\n",
      "Analytical Solution: 282.0482 Reimman Sumation with 100 points: 286.7434, Absolute Error: 4.69521975419832\n"
     ]
    }
   ],
   "source": [
    "# Right Riemman Sum from scratch \n",
    "# Right Reimman Sum\n",
    "F=0 # Init Integral \n",
    "a = 2   # inf[f(x)]  Lower boundary\n",
    "b = 5   # sup[f(x)]  Upper boundary\n",
    "n=int(input(\"enter the number of points n=\")) # Number of points\n",
    "\n",
    "for i in range(0,n+1): \n",
    "    fx = 2*np.exp(  a + i*(b-a)/n  ) # Evaluate function in x_i \n",
    "    F+= fx*( (b-a)/n )               # Multiply by dx (Area of rectangle)\n",
    "\n",
    "print(f\"Analytical Solution: {round(F_analytical,4)} Reimman Sumation with {n} points: {round(F,4)}, Absolute Error: {abs(F_analytical -F)}\")"
   ]
  },
  {
   "cell_type": "markdown",
   "metadata": {},
   "source": [
    "#### Middle Riemman Sum"
   ]
  },
  {
   "cell_type": "code",
   "execution_count": 61,
   "metadata": {},
   "outputs": [
    {
     "name": "stdout",
     "output_type": "stream",
     "text": [
      "enter the number of points n=100\n",
      "Analytical Solution: 282.0482 Reimman Sumation with 100 points: 279.217, Absolute Error: 2.8311654181069343\n"
     ]
    }
   ],
   "source": [
    "# Reimman Sum\n",
    "a = 2   # inf[f(x)]  Lower boundary\n",
    "b = 5   # sup[f(x)]  Upper boundary\n",
    "F=0     # Init Integral\n",
    "n=int(input(\"enter the number of points n=\")) # Number of points\n",
    "x = np.linspace(a,b,n) # Create vector from a to b with n points (a, a+dx, a+2dx, ..., b-dx, b)\n",
    "for i in range(0,len(x)):\n",
    "    xi_prev = x[i]\n",
    "    try:\n",
    "        xi = x[i+1]\n",
    "    except:\n",
    "        continue\n",
    "    middle_point = (xi_prev +xi)/2 # Obtain middle point \n",
    "    fx = 2*np.exp(middle_point)    # Evaluate function in middle point\n",
    "    F+= fx*( (b-a)/n )             # Multiply by dx (Area of rectangle)\n",
    "\n",
    "print(f\"Analytical Solution: {round(F_analytical,4)} Reimman Sumation with {n} points: {round(F,4)}, Absolute Error: {abs(F_analytical -F)}\")"
   ]
  },
  {
   "cell_type": "markdown",
   "metadata": {},
   "source": [
    "#### Reimman Sum number of points analysis"
   ]
  },
  {
   "cell_type": "code",
   "execution_count": 24,
   "metadata": {},
   "outputs": [
    {
     "data": {
      "image/png": "[encoded data removed]",
      "text/plain": [
       "<Figure size 720x360 with 1 Axes>"
      ]
     },
     "metadata": {
      "needs_background": "light"
     },
     "output_type": "display_data"
    }
   ],
   "source": [
    "plt.figure(figsize=(10,5))  # Adjust Fig size\n",
    "values = [100,200,500,1000,2000,3000,4000]\n",
    "j=0\n",
    "for v in values:\n",
    "    F =0\n",
    "    n=v\n",
    "    for i in range(0+1,n+1):\n",
    "         F+= (2*np.exp(( a + i*(b-a)/n )))*((b-a)/n)\n",
    "    \n",
    "    j = j + 1\n",
    "    plt.plot(j,F,\"*\",label=f\" n = {v}\")\n",
    "    \n",
    "plt.axhline(y=F_analytical, color='green', linestyle='--', label=\"Real Integral\")\n",
    "\n",
    "# Cutomize output \n",
    "plt.legend()    # Add legends\n",
    "plt.grid()      # Turn on grid\n",
    "plt.title(\"Reimann Sumations\") # Set Title\n",
    "plt.ylim([280,287])\n",
    "plt.show()      # Print \n"
   ]
  }
 ],
 "metadata": {
  "kernelspec": {
   "display_name": "Python 3",
   "language": "python",
   "name": "python3"
  },
  "language_info": {
   "codemirror_mode": {
    "name": "ipython",
    "version": 3
   },
   "file_extension": ".py",
   "mimetype": "text/x-python",
   "name": "python",
   "nbconvert_exporter": "python",
   "pygments_lexer": "ipython3",
   "version": "3.7.7"
  }
 },
 "nbformat": 4,
 "nbformat_minor": 4
}
